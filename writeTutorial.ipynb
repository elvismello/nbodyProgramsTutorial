{
 "cells": [
  {
   "cell_type": "markdown",
   "metadata": {},
   "source": [
    "# Write snapshots"
   ]
  },
  {
   "cell_type": "markdown",
   "metadata": {},
   "source": [
    "This notebook has the pourpose of exibiting how to write snapshots using various codes."
   ]
  },
  {
   "cell_type": "code",
   "execution_count": 2,
   "metadata": {},
   "outputs": [],
   "source": [
    "import numpy as np\n",
    "\n",
    "# writting/reading libraries\n",
    "import unsio.output as uns_out\n",
    "import snapwrite\n",
    "import h5py\n",
    "\n",
    "# plotting\n",
    "from matplotlib import pyplot as plt"
   ]
  },
  {
   "cell_type": "markdown",
   "metadata": {},
   "source": [
    "Creating distribution of halo particles in order to test snapshot creation."
   ]
  },
  {
   "cell_type": "markdown",
   "metadata": {},
   "source": [
    "Unsio can be a bit anoying with data types.\n",
    "* All quantities need to be set with `dtype = \"float32\"` in a numpy array."
   ]
  },
  {
   "cell_type": "code",
   "execution_count": 3,
   "metadata": {},
   "outputs": [],
   "source": [
    "# Constant distribution inside a box with null velocity\n",
    "\n",
    "TOTAL_PARTICLES = 10000\n",
    "\n",
    "positions = np.array(np.random.rand(TOTAL_PARTICLES * 3), dtype=\"float32\") * 100\n",
    "velocities = np.zeros(TOTAL_PARTICLES * 3, dtype=\"float32\")\n",
    "masses = np.ones(TOTAL_PARTICLES, dtype=\"float32\")\n",
    "\n",
    "\n",
    "positions_hdf5 = np.reshape(positions, (TOTAL_PARTICLES, 3))\n",
    "velocities_hdf5 = np.reshape(velocities, (TOTAL_PARTICLES, 3))\n"
   ]
  },
  {
   "cell_type": "code",
   "execution_count": 5,
   "metadata": {},
   "outputs": [
    {
     "name": "stdout",
     "output_type": "stream",
     "text": [
      "positions.shape=(30000,), positions_hdf5.shape=(10000, 3)\n"
     ]
    }
   ],
   "source": [
    "print(f\"{positions.shape=}, {positions_hdf5.shape=}\")"
   ]
  },
  {
   "cell_type": "markdown",
   "metadata": {},
   "source": [
    "## Gadget 2"
   ]
  },
  {
   "cell_type": "markdown",
   "metadata": {},
   "source": [
    "Both aproaches to writing in the binary format, UNSIO and snapwrite, receive positions and velocities as 1-dimensional vectors/lists/arrays with properties sequentially organized as xyzxyz or VxVyVzVxVyVz."
   ]
  },
  {
   "cell_type": "markdown",
   "metadata": {},
   "source": [
    "### UNSIO"
   ]
  },
  {
   "cell_type": "markdown",
   "metadata": {},
   "source": []
  },
  {
   "cell_type": "code",
   "execution_count": 6,
   "metadata": {},
   "outputs": [],
   "source": [
    "snapshot_object = uns_out.CUNS_OUT(\"test_unsio.G2\", \"gadget2\")\n",
    "\n",
    "# possible components := gas, halo, dm, disk, stars, bulge, bndry\n",
    "\n",
    "snapshot_object.setData(positions, \"halo\", \"pos\")\n",
    "snapshot_object.setData(velocities, \"halo\", \"vel\")\n",
    "snapshot_object.setData(masses, \"halo\", \"mass\")\n",
    "\n",
    "snapshot_object.save() # essential\n",
    "snapshot_object.close() # unsio apparently doesn't work with \"with\" statements. It needs to be manually closed."
   ]
  },
  {
   "cell_type": "markdown",
   "metadata": {},
   "source": [
    "### snapwrite"
   ]
  },
  {
   "cell_type": "markdown",
   "metadata": {},
   "source": [
    "Manual code that delves into directly writing binary. Made originally by Ruggiero, but modified and tweaked by me."
   ]
  },
  {
   "cell_type": "code",
   "execution_count": 9,
   "metadata": {},
   "outputs": [],
   "source": [
    "\n",
    "ids = range(TOTAL_PARTICLES)\n",
    "n_part = [0.0, TOTAL_PARTICLES, 0.0, 0.0, 0.0, 0.0] # list that determines size of each component\n",
    "data = [positions, velocities, ids, masses] # data list in a way snapwrite understands\n",
    "\n",
    "\n",
    "snapwrite.write_snapshot(n_part=n_part, data_list=data, outfile=\"test_snapwrite.G2\")"
   ]
  },
  {
   "cell_type": "markdown",
   "metadata": {},
   "source": [
    "### HDF5"
   ]
  },
  {
   "cell_type": "markdown",
   "metadata": {},
   "source": [
    "Its HDF5.\n",
    "\n",
    "Positions and velocities are written as lists of 3-dimensional vectors."
   ]
  },
  {
   "cell_type": "code",
   "execution_count": 44,
   "metadata": {},
   "outputs": [],
   "source": [
    "ids = range(TOTAL_PARTICLES)\n",
    "n_part = [0.0, TOTAL_PARTICLES, 0.0, 0.0, 0.0, 0.0] # list that determines size of each component\n",
    "\n",
    "\n",
    "with h5py.File(\"test_hdf5.hdf5\", \"w\") as snapshot_object:\n",
    "    type1 = snapshot_object.create_group(\"PartType1\")\n",
    "    \n",
    "    type1.create_dataset(\"Coordinates\", data=positions_hdf5)\n",
    "    type1.create_dataset(\"Velocities\", data=velocities_hdf5)\n",
    "    type1.create_dataset(\"Masses\", data=masses)\n",
    "    type1.create_dataset(\"ParticlesIDs\", data=ids, dtype='uint32')\n",
    "\n",
    "    header = snapshot_object.create_group(\"Header\")\n",
    "\n",
    "    header.attrs['NumPart_ThisFile'] = np.asarray(n_part)\n",
    "    header.attrs['NumPart_Total'] = np.asarray(n_part)\n",
    "    header.attrs['NumPart_Total_HighWord'] = 0 * np.asarray(n_part)\n",
    "    header.attrs['MassTable'] = np.zeros(6)\n",
    "    header.attrs['Time'] = float(0.0)\n",
    "    header.attrs['Redshift'] = float(0.0)\n",
    "    header.attrs['BoxSize'] = float(0.0)\n",
    "    header.attrs['NumFilesPerSnapshot'] = int(1)\n",
    "    header.attrs['Omega0'] = float(0.0)\n",
    "    header.attrs['OmegaLambda'] = float(0.0)\n",
    "    header.attrs['HubbleParam'] = float(1.0)\n",
    "    header.attrs['Flag_Sfr'] = int(0.0)\n",
    "    header.attrs['Flag_Cooling'] = int(0)\n",
    "    header.attrs['Flag_StellarAge'] = int(0)\n",
    "    header.attrs['Flag_Metals'] = int(0)\n",
    "    header.attrs['Flag_Feedback'] = int(0)\n",
    "    header.attrs['Flag_DoublePrecision'] = 1\n",
    "    header.attrs['Flag_IC_Info'] = 0"
   ]
  }
 ],
 "metadata": {
  "kernelspec": {
   "display_name": "Python 3.8.10 64-bit",
   "language": "python",
   "name": "python3"
  },
  "language_info": {
   "codemirror_mode": {
    "name": "ipython",
    "version": 3
   },
   "file_extension": ".py",
   "mimetype": "text/x-python",
   "name": "python",
   "nbconvert_exporter": "python",
   "pygments_lexer": "ipython3",
   "version": "3.8.10"
  },
  "orig_nbformat": 4,
  "vscode": {
   "interpreter": {
    "hash": "916dbcbb3f70747c44a77c7bcd40155683ae19c65e1c03b4aa3499c5328201f1"
   }
  }
 },
 "nbformat": 4,
 "nbformat_minor": 2
}
